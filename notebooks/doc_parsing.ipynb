{
 "cells": [
  {
   "cell_type": "code",
   "execution_count": null,
   "metadata": {},
   "outputs": [],
   "source": [
    "import textract"
   ]
  },
  {
   "cell_type": "code",
   "execution_count": null,
   "metadata": {},
   "outputs": [],
   "source": [
    "text1 = str(textract.process(\"../samples/sample.pdf\"))\n",
    "text2 = str(textract.process(\"../samples/sample.wav\"))"
   ]
  },
  {
   "cell_type": "code",
   "execution_count": null,
   "metadata": {},
   "outputs": [],
   "source": [
    "# Prepping the pdf text\n",
    "text_pdf = text1[2:-1].replace(\"\\\\r\\\\n\", \" \")\n",
    "text_pdf = text_pdf.replace(\"\\\\x0c\", \" \")\n",
    "text_pdf = ' '.join(text_pdf.split()).strip()"
   ]
  },
  {
   "cell_type": "code",
   "execution_count": null,
   "metadata": {},
   "outputs": [],
   "source": [
    "print(text_pdf)"
   ]
  },
  {
   "cell_type": "code",
   "execution_count": null,
   "metadata": {},
   "outputs": [],
   "source": [
    "# Prepping the audio text\n",
    "text_wav = text2[2:-1].replace(\"\\\\r\\\\n\", \" \")\n",
    "text_wav = text_wav.replace(\"\\\\n\", \" \")\n",
    "text_wav = text_wav.replace(\"\\\\x0c\", \" \")\n",
    "text_wav = ' '.join(text_wav.split()).strip()"
   ]
  },
  {
   "cell_type": "code",
   "execution_count": null,
   "metadata": {},
   "outputs": [],
   "source": [
    "print(text_wav)"
   ]
  },
  {
   "cell_type": "code",
   "execution_count": null,
   "metadata": {},
   "outputs": [],
   "source": [
    "import sys\n",
    "sys.path.append(\"../\")\n",
    "from src.inc.parser import Parser"
   ]
  },
  {
   "cell_type": "code",
   "execution_count": 3,
   "metadata": {},
   "outputs": [
    {
     "name": "stdout",
     "output_type": "stream",
     "text": [
      "MoviePy - Writing audio in ../samples/sample_vid.wav\n"
     ]
    },
    {
     "name": "stderr",
     "output_type": "stream",
     "text": []
    },
    {
     "name": "stdout",
     "output_type": "stream",
     "text": [
      "MoviePy - Done.\n"
     ]
    },
    {
     "data": {
      "text/plain": [
       "'today I need you to embrace what comes hard today I need you to accept the challenge today I need you to fall in love with the process there will be plenty of opportunities to get'"
      ]
     },
     "execution_count": 3,
     "metadata": {},
     "output_type": "execute_result"
    }
   ],
   "source": [
    "v = Parser(\"../samples/sample_vid.mp4\")\n",
    "v.get_text()"
   ]
  },
  {
   "cell_type": "code",
   "execution_count": 4,
   "metadata": {},
   "outputs": [
    {
     "data": {
      "text/plain": [
       "'this paper describes the psychosocial effects of a program of supported employment SE for persons with severe mental illness the SE program involves extended individualized supported employment for clients through a mobile job support worker and jsw who maintains contact with the client after job placement and supports the client in a variety of ways a 50% simple random sample was taken of all persons who entered the thresholds agency between March 1st 93 and February 28th 95 and who met study criteria the resulting 484 cases were randomly assigned to either the SE condition treatment group or the usual protocol control group which consisted of life skills training and employment in an in-house sheltered workshop setting all participants were measured at intake and at three months after beginning employment on two measures of psychological Funk turning the bprs and gas and two measures of self-esteem are Sensa significant treatment effects were found on all four measures but they were in the opposite direction from what was hypothesized instead of functioning better and having more self-esteem persons in SE had lower-functioning levels and lower self-esteem the most likely explanation is that people who work in low-paying service jobs in real-world settings generally do not like them and experienced significant job stress whether they have severe mental illness or not the implications for theory in psychosocial Rehabilitation are considered'"
      ]
     },
     "execution_count": 4,
     "metadata": {},
     "output_type": "execute_result"
    }
   ],
   "source": [
    "a = Parser(\"../samples/sample.wav\")\n",
    "a.get_text()"
   ]
  },
  {
   "cell_type": "code",
   "execution_count": 5,
   "metadata": {},
   "outputs": [
    {
     "data": {
      "text/plain": [
       "'A Simple PDF File This is a small demonstration .pdf file just for use in the Virtual Mechanics tutorials. More text. And more text. And more text. And more text. And more text. And more text. And more text. And more text. And more text. And more text. And more text. Boring, zzzzz. And more text. And more text. And more text. And more text. And more text. And more text. And more text. And more text. And more text. And more text. And more text. And more text. And more text. And more text. And more text. And more text. Even more. Continued on page 2 ... Simple PDF File 2 ...continued from page 1. Yet more text. And more text. And more text. And more text. And more text. And more text. And more text. And more text. Oh, how boring typing this stuff. But not as boring as watching paint dry. And more text. And more text. And more text. And more text. Boring. More, a little more text. The end, and just as well.'"
      ]
     },
     "execution_count": 5,
     "metadata": {},
     "output_type": "execute_result"
    }
   ],
   "source": [
    "p = Parser(\"../samples/sample.pdf\")\n",
    "p.get_text()"
   ]
  }
 ],
 "metadata": {
  "interpreter": {
   "hash": "b55fb9c3b2ae460387b9f24a585a06d07a1c685c2da458447f8c89d29042cf89"
  },
  "kernelspec": {
   "display_name": "Python 3.8.10 64-bit ('venv': venv)",
   "name": "python3"
  },
  "language_info": {
   "codemirror_mode": {
    "name": "ipython",
    "version": 3
   },
   "file_extension": ".py",
   "mimetype": "text/x-python",
   "name": "python",
   "nbconvert_exporter": "python",
   "pygments_lexer": "ipython3",
   "version": "3.8.10"
  },
  "orig_nbformat": 4
 },
 "nbformat": 4,
 "nbformat_minor": 2
}
