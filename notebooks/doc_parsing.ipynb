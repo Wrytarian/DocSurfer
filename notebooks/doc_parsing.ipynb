{
 "cells": [
  {
   "cell_type": "code",
   "execution_count": null,
   "metadata": {},
   "outputs": [],
   "source": [
    "import textract"
   ]
  },
  {
   "cell_type": "code",
   "execution_count": null,
   "metadata": {},
   "outputs": [],
   "source": [
    "text1 = str(textract.process(\"../sample.pdf\"))\n",
    "text2 = str(textract.process(\"../sample.wav\"))"
   ]
  },
  {
   "cell_type": "code",
   "execution_count": null,
   "metadata": {},
   "outputs": [],
   "source": [
    "# Prepping the pdf text\n",
    "text_pdf = text1[2:-1].replace(\"\\\\r\\\\n\", \" \")\n",
    "text_pdf = text_pdf.replace(\"\\\\x0c\", \" \")\n",
    "text_pdf = ' '.join(text_pdf.split()).strip()"
   ]
  },
  {
   "cell_type": "code",
   "execution_count": null,
   "metadata": {},
   "outputs": [],
   "source": [
    "print(text_pdf)"
   ]
  },
  {
   "cell_type": "code",
   "execution_count": null,
   "metadata": {},
   "outputs": [],
   "source": [
    "# Prepping the audio text\n",
    "text_wav = text2[2:-1].replace(\"\\\\r\\\\n\", \" \")\n",
    "text_wav = text_wav.replace(\"\\\\n\", \" \")\n",
    "text_wav = text_wav.replace(\"\\\\x0c\", \" \")\n",
    "text_wav = ' '.join(text_wav.split()).strip()"
   ]
  },
  {
   "cell_type": "code",
   "execution_count": null,
   "metadata": {},
   "outputs": [],
   "source": [
    "print(text_wav)"
   ]
  }
 ],
 "metadata": {
  "interpreter": {
   "hash": "b55fb9c3b2ae460387b9f24a585a06d07a1c685c2da458447f8c89d29042cf89"
  },
  "kernelspec": {
   "display_name": "Python 3.8.10 64-bit ('venv': venv)",
   "name": "python3"
  },
  "language_info": {
   "codemirror_mode": {
    "name": "ipython",
    "version": 3
   },
   "file_extension": ".py",
   "mimetype": "text/x-python",
   "name": "python",
   "nbconvert_exporter": "python",
   "pygments_lexer": "ipython3",
   "version": "3.8.10"
  },
  "orig_nbformat": 4
 },
 "nbformat": 4,
 "nbformat_minor": 2
}
