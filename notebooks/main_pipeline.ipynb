{
 "cells": [
  {
   "cell_type": "markdown",
   "metadata": {},
   "source": [
    "#### Main Pipeline\n",
    "By: Daniel Gobalakrishnan"
   ]
  },
  {
   "cell_type": "code",
   "execution_count": 1,
   "metadata": {},
   "outputs": [],
   "source": [
    "import sys\n",
    "sys.path.append(\"../\")\n",
    "\n",
    "from src.inc.parser import Parser\n",
    "from src.inc.topic_selector import TopicSelector\n",
    "from src.inc.wiki_summarizer import WikiSummarizer"
   ]
  },
  {
   "cell_type": "markdown",
   "metadata": {},
   "source": [
    "_______________________\n",
    "Reading text from a file using the Parser class. In this case, I read the text from the sample audio file."
   ]
  },
  {
   "cell_type": "code",
   "execution_count": 2,
   "metadata": {},
   "outputs": [],
   "source": [
    "path = \"../samples/sample.wav\"\n",
    "parser = Parser(path=path)\n",
    "text = parser.get_text()"
   ]
  },
  {
   "cell_type": "markdown",
   "metadata": {},
   "source": [
    "_______________________\n",
    "Select keywords from the text using the TopicSelector class."
   ]
  },
  {
   "cell_type": "code",
   "execution_count": 3,
   "metadata": {},
   "outputs": [],
   "source": [
    "ts = TopicSelector(text=text, min_freq=3, lang=\"english\")\n",
    "keywords = ts.get_keywords()"
   ]
  },
  {
   "cell_type": "markdown",
   "metadata": {},
   "source": [
    "_______________________\n",
    "Find wiki pages for the keywords and summarize each one using the WikiSummarizer class."
   ]
  },
  {
   "cell_type": "code",
   "execution_count": 6,
   "metadata": {},
   "outputs": [],
   "source": [
    "wiki = WikiSummarizer(keywords=keywords, summarizer=\"freq\")\n",
    "summaries = wiki.get_summaries()"
   ]
  },
  {
   "cell_type": "markdown",
   "metadata": {},
   "source": [
    "_______________________\n",
    "Here's the result."
   ]
  },
  {
   "cell_type": "code",
   "execution_count": 7,
   "metadata": {},
   "outputs": [
    {
     "name": "stdout",
     "output_type": "stream",
     "text": [
      "March: The name of March comes from Martius, the first month of the earliest Roman calendar. In Slovene, the traditional name is sušec, meaning the month when the earth becomes dry enough so that it is possible to cultivate it. (All Baha'i, Islamic, and Jewish observances begin at the sundown prior to the date listed, and end at sundown of the date in question unless otherwise noted.) In Ukrainian, the month is called березень/berezenʹ, meaning birch tree, and březen in Czech. March is the third month of the year in both the Julian and Gregorian calendars. In the Northern Hemisphere, the meteorological beginning of spring occurs on the first day of March. Even in late antiquity, Roman mosaics picturing the months sometimes still placed March first. Other names were used too, for example brezen and breznik, \"the month of birches\".\n",
      "\n",
      "Funk: Rock bands began adopting elements of funk into their sound, creating new combinations of \"funk rock\" and \"funk metal\". Since the mid-1990s the nu-funk or funk revivalist scene, centered on the deep funk collectors scene, is producing new material influenced by the sounds of rare funk 45s. Michael Jackson was influenced electro funk also In 1980, techno funk musician used the TR-808 programmable drum machine, while Kraftwerk's sound influenced later electro-funk artists such as Mantronix. Funk horn sections performed in a \"rhythmic percussive style\" that mimicked the approach used by funk rhythm guitarists. By the latter half of the 1980s, pure funk had lost its commercial impact; however, pop artists from Michael Jackson to Culture Club often used funk beats. Despite funk's popularity in modern music, few people have examined the work of funk women. Phish, Soul Rebels Brass Band, Galactic, and Soulive are all examples of funk bands that play funk jam. Electro funk is a hybrid of electronic music and funk.\n",
      "\n",
      "February: The month has 28 days in common years or 29 in leap years, with the 29th day being called the leap day. February remained the last month of the calendar year until the time of the decemvirs (c. 450 BC), when it became the second month. Under the reforms that instituted the Julian calendar, Intercalaris was abolished, leap years occurred regularly every fourth year, and in leap years February gained a 29th day. Thereafter, it remained the second month of the calendar year, meaning the order that months are displayed (January, February, March, ..., December) within a year-at-a-glance calendar. February is also the only month of the calendar that, at intervals alternating between one of six years and two of eleven years, has exactly four full 7-day weeks. Having only 28 days in common years, February is the only month of the year that can pass without a single full moon. In Polish and Ukrainian, respectively, the month is called luty or лютий (lyutiy), meaning the month of ice or hard frost. The pattern is broken by a skipped leap year, but no leap year has been skipped since 1900 and no others will be skipped until 2100.\n",
      "\n",
      "employment: Literature on the employment impact of economic growth and on how growth is associated with employment at a macro, sector and industry level was aggregated in 2013. Wage labor is the socioeconomic relationship between a worker and an employer, where the worker sells their labor under a formal or informal employment contract. Employers must balance interests such as decreasing wage constraints with a maximization of labor productivity in order to achieve a profitable and productive employment relationship. Both increased employment opportunities and increased labor productivity (as long as it also translates into higher wages) are needed to tackle poverty. The researchers didn't find sufficient evidence to conclude any impact of growth on employment in LDCs despite some pointing to the positive impact, others point to limitations. In the Philippines, employment is regulated by the Department of Labor and Employment. A key assumption is the extent to which the employment relationship necessarily includes conflicts of interests between employers and employees, and the form of such conflicts. Young workers are at higher risk for occupational injury and face certain occupational hazards at a higher rate; this is generally due to their employment in high-risk industries.\n",
      "\n",
      "person: The defining features of personhood and, consequently, what makes a person count as a person, differ widely among cultures and contexts. [... Another idea] for conceiving the natural-rational unity of the person has emerged recently in the concept of the \"person life\" (Marya Schechtman).\" According to common worldwide general legal practice, only a natural person or legal personality has rights, protections, privileges, responsibilities, and legal liability. The synchronic problem is grounded in the question of what features or traits characterize a given person at one time. The philosophical concept of person arose, taking the word \"prosopon\" (Ancient Greek: πρόσωπον, romanized: prósōpon) from the Greek theatre. The concept of person was further developed during the Trinitarian and Christological debates of the 4th and 5th centuries in contrast to the word nature. In the modern philosophy of mind, this concept of personal identity is sometimes referred to as the diachronic problem of personal identity. According to Noller, at least six approaches can be distinguished: \"(1) The ontological definition of the person as \"an individual substance of a rational nature\" (Boethius).\n",
      "\n",
      "job: Literature on the employment impact of economic growth and on how growth is associated with employment at a macro, sector and industry level was aggregated in 2013. Wage labor is the socioeconomic relationship between a worker and an employer, where the worker sells their labor under a formal or informal employment contract. Employers must balance interests such as decreasing wage constraints with a maximization of labor productivity in order to achieve a profitable and productive employment relationship. Both increased employment opportunities and increased labor productivity (as long as it also translates into higher wages) are needed to tackle poverty. The researchers didn't find sufficient evidence to conclude any impact of growth on employment in LDCs despite some pointing to the positive impact, others point to limitations. In the Philippines, employment is regulated by the Department of Labor and Employment. A key assumption is the extent to which the employment relationship necessarily includes conflicts of interests between employers and employees, and the form of such conflicts. Young workers are at higher risk for occupational injury and face certain occupational hazards at a higher rate; this is generally due to their employment in high-risk industries.\n",
      "\n",
      "self-esteem: There are three levels of self-evaluation development in relation to the real self, ideal self, and the dreaded self. These are the material self, social self, and spiritual self. The material self consists of representations of the body and possessions and the spiritual self of descriptive representations and evaluative dispositions regarding the self. James identified multiple dimensions of the self, with two levels of hierarchy: processes of knowing (called the 'I-self') and the resulting knowledge about the self (the 'Me-self'). People who suffer from chronic low self esteem are at a higher risk for experiencing psychotic disorders; and this behavior is closely linked to forming psychotic symptoms as well. A poor performance leads to higher responses of psychological states that indicate a threat to the social self namely a decrease in social self-esteem and an increase in shame. Narcissism is a disposition people may have that represents an excessive love for one's self. Feelings of shame usually occur because of a situation where the social self is devalued, such as a socially evaluated poor performance.\n",
      "\n"
     ]
    }
   ],
   "source": [
    "for keyword in summaries:\n",
    "    print(keyword + \": \" + summaries[keyword], end=\"\\n\\n\")"
   ]
  }
 ],
 "metadata": {
  "interpreter": {
   "hash": "b55fb9c3b2ae460387b9f24a585a06d07a1c685c2da458447f8c89d29042cf89"
  },
  "kernelspec": {
   "display_name": "Python 3.8.10 64-bit ('venv': venv)",
   "name": "python3"
  },
  "language_info": {
   "codemirror_mode": {
    "name": "ipython",
    "version": 3
   },
   "file_extension": ".py",
   "mimetype": "text/x-python",
   "name": "python",
   "nbconvert_exporter": "python",
   "pygments_lexer": "ipython3",
   "version": "3.8.10"
  },
  "orig_nbformat": 4
 },
 "nbformat": 4,
 "nbformat_minor": 2
}
