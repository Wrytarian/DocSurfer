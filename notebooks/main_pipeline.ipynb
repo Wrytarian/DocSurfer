{
 "cells": [
  {
   "cell_type": "markdown",
   "metadata": {},
   "source": [
    "#### Main Pipeline\n",
    "By: Daniel Gobalakrishnan"
   ]
  },
  {
   "cell_type": "code",
   "execution_count": 64,
   "metadata": {},
   "outputs": [],
   "source": [
    "import sys\n",
    "sys.path.append(\"../\")\n",
    "\n",
    "from src.inc.parser import Parser\n",
    "from src.inc.topic_selector import TopicSelector\n",
    "from src.inc.wiki_summarizer import WikiSummarizer"
   ]
  },
  {
   "cell_type": "markdown",
   "metadata": {},
   "source": [
    "_______________________\n",
    "Read text from a file using the Parser class. In this case, I extract the text from a PDF file."
   ]
  },
  {
   "cell_type": "code",
   "execution_count": 65,
   "metadata": {},
   "outputs": [],
   "source": [
    "path = \"../samples/sample.pdf\"\n",
    "parser = Parser(path)\n",
    "text = parser.get_text()"
   ]
  },
  {
   "cell_type": "code",
   "execution_count": 66,
   "metadata": {},
   "outputs": [
    {
     "name": "stdout",
     "output_type": "stream",
     "text": [
      "Welcome to Smallpdf Ready to take document management to the next level? Digital Documents\\xe2\\x80\\x94All In One Place With the new Smallpdf experience, you can freely upload, organize, and share digital documents. When you enable the \\xe2\\x80\\x98Storage\\xe2\\x80\\x99 option, we\\xe2\\x80\\x99ll also store all processed files here. Enhance Documents in One Click When you right-click on a file, we\\xe2\\x80\\x99ll present you with an array of options to convert, compress, or modify it. Access Files Anytime, Anywhere You can access files stored on Smallpdf from your computer, phone, or tablet. We\\xe2\\x80\\x99ll also sync files from the Smallpdf Mobile App to our online portal Collaborate With Others Forget mundane administrative tasks. With Smallpdf, you can request e-signatures, send large files, or even enable the Smallpdf G Suite App for your entire organization.\n"
     ]
    }
   ],
   "source": [
    "print(text)"
   ]
  },
  {
   "cell_type": "markdown",
   "metadata": {},
   "source": [
    "_______________________\n",
    "Select keywords (named entites) from text using the TopicSelector class. It is set to use automatic language detection by default. The class can also extract a set number of common words in the text based on a given minimum frequency value. "
   ]
  },
  {
   "cell_type": "code",
   "execution_count": 67,
   "metadata": {},
   "outputs": [],
   "source": [
    "text = \"\"\"Michael Jeffrey Jordan (born February 17, 1963), also known by his initials MJ, \n",
    "        is an American former professional basketball player and businessman. By acclamation, \n",
    "        Michael Jordan is the greatest basketball player of all time. He was integral in helping \n",
    "        to popularize the NBA around the world in the 1980s and 1990s, becoming a global cultural icon in the \n",
    "        process. He played 15 seasons in the NBA, winning six championships with the Chicago \n",
    "        Bulls. He is the principal owner and chairman of the Charlotte Hornets of the National \n",
    "        Basketball Association and of 23XI Racing in the NASCAR Cup Series.\"\"\"\n",
    "\n",
    "ts = TopicSelector(text=text, min_freq=2, lang=\"auto\", n_common_words=8)\n",
    "keywords = ts.get_keywords()"
   ]
  },
  {
   "cell_type": "code",
   "execution_count": 68,
   "metadata": {},
   "outputs": [
    {
     "name": "stdout",
     "output_type": "stream",
     "text": [
      "{'NBA Chicago Bulls', 'Charlotte Hornets National Basketball', 'Michael Jordan', 'NBA', 'American', 'Michael Jeffrey Jordan'}\n"
     ]
    }
   ],
   "source": [
    "print(keywords)"
   ]
  },
  {
   "cell_type": "markdown",
   "metadata": {},
   "source": [
    "_______________________\n",
    "Find wiki pages for the keywords. Summarize each one using a frequency-based approach or a KMeansClusterer approach. The summaries can also be translated to a target language."
   ]
  },
  {
   "cell_type": "code",
   "execution_count": 69,
   "metadata": {},
   "outputs": [],
   "source": [
    "keywords = ['National Basketball Association', 'Michael Jordan', 'Lebron James']\n",
    "wiki = WikiSummarizer(keywords=keywords, summarizer='freq', min_word_freq=3, dist_metric='cosine', n_clusters=3,\n",
    "                      max_sent_len=30, summary_len=5, lang='auto', min_summary_char_len=100, target='french')\n",
    "summaries = wiki.get_summaries()"
   ]
  },
  {
   "cell_type": "code",
   "execution_count": 70,
   "metadata": {},
   "outputs": [
    {
     "name": "stdout",
     "output_type": "stream",
     "text": [
      "National Basketball Association :  Chaque équipe joue six des deux équipes des deux autres divisions de sa conférence quatre fois (24 matchs) et les quatre équipes restantes trois fois (12 matchs).Les équipes post-saison sont l'équipe AL-NBA, l'équipe de toute la défense et l'équipe entièrement recrue;Chacun se compose de cinq joueurs.Par conséquent, l'équipe avec le meilleur record de saison régulière de la ligue est garantie à domicile à domicile à chaque série qu'il joue.La ligue a commencé à utiliser son format actuel, avec les huit meilleures équipes de chaque conférence avançant indépendamment de l'alignement divisionnaire, à la saison 2015-16.Dans la saison 2015-2016, les guerriers ont terminé la saison 73-9, le record de la meilleure saison dans l'histoire de la NBA. \n",
      "\n",
      "Michael Jordan :  Il détient les records de la NBA pour la moyenne de la saison régulière de carrière (30,12 points par match) et la moyenne des séries de changements de séries de carrière (33,45 points par match).La Jordanie est également titulaire de la saison régulière de la carrière et des meilleures séries de séries éliminatoires de 30,1 et 33,4 points par match, respectivement.Les finales de 1998 détiennent la meilleure évaluation de la télévision de toute série de finales de l'histoire;Le match 6 tient également la meilleure évaluation de la télévision de tout jeu dans l'histoire de la NBA.Les taureaux ont fini de première place dans leur division pour la première fois en seize ans et fixent un record de franchise avec 61 victoires en saison régulière.Dans la saison 1990-1991, Jordan a remporté son deuxième prix MVP après avoir une 31,5 ppg sur 53,9% de tir, 6,0 RPG et 5,5 APG pour la saison régulière. \n",
      "\n",
      "Lebron James :  Pour la série, il a en moyenne 38,5 points, 8,3 rebonds et 8 passes d'aide par match, finissant la statisse d'une carrière à 35,3 points par match.Aux moyennes de la saison finale de 31,4 points, 7 rebonds et 6,6 passes d'assistance par match, il a également terminé deuxième dans l'ensemble de la NBA la plus précieuse des joueurs de la NBA votant à Steve Nash.Il a été nommé Finales MVP pour la deuxième saison consécutive, en moyenne de 25,3 points, 10,9 rebonds, 7 passes, et 2,3 vols par match pour le tour du championnat.Les cavaliers ont terminé la saison alors que la seconde graine de l'est, avec James enverrant 26,4 points et des hauts de carrière dans les rebonds (8,6), des assistants (8,7) et des chiffres d'affaires (4.1) par match.Avec des moyennes finales de 28,4 points, 7,6 rebonds, 7,2 passes, 1,7 vols, et 1,2 blocs par jeu, James est devenu le premier cavalier à remporter le prix MVP. \n",
      "\n"
     ]
    }
   ],
   "source": [
    "for keyword in summaries.keys():\n",
    "    print(keyword, \": \", summaries[keyword], \"\\n\")"
   ]
  }
 ],
 "metadata": {
  "interpreter": {
   "hash": "b55fb9c3b2ae460387b9f24a585a06d07a1c685c2da458447f8c89d29042cf89"
  },
  "kernelspec": {
   "display_name": "Python 3.8.10 64-bit ('venv': venv)",
   "name": "python3"
  },
  "language_info": {
   "codemirror_mode": {
    "name": "ipython",
    "version": 3
   },
   "file_extension": ".py",
   "mimetype": "text/x-python",
   "name": "python",
   "nbconvert_exporter": "python",
   "pygments_lexer": "ipython3",
   "version": "3.8.10"
  },
  "orig_nbformat": 4
 },
 "nbformat": 4,
 "nbformat_minor": 2
}
