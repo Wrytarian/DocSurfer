{
 "cells": [
  {
   "cell_type": "code",
   "execution_count": 53,
   "metadata": {},
   "outputs": [],
   "source": [
    "from nltk.tokenize import word_tokenize, sent_tokenize\n",
    "from nltk.corpus import stopwords\n",
    "\n",
    "import bs4 as bs\n",
    "import urllib.request\n",
    "import re\n",
    "import heapq\n"
   ]
  },
  {
   "cell_type": "code",
   "execution_count": 54,
   "metadata": {},
   "outputs": [],
   "source": [
    "KEYWORD = \"Rome\""
   ]
  },
  {
   "cell_type": "code",
   "execution_count": 55,
   "metadata": {},
   "outputs": [],
   "source": [
    "data = urllib.request.urlopen(f'https://en.wikipedia.org/wiki/{KEYWORD}')\n",
    "article = data.read()\n",
    "\n",
    "parsed_article = bs.BeautifulSoup(article,'lxml')\n",
    "\n",
    "paragraphs = parsed_article.find_all('p')\n",
    "\n",
    "text = \"\"\n",
    "\n",
    "for p in paragraphs:\n",
    "    text += p.text"
   ]
  },
  {
   "cell_type": "code",
   "execution_count": 56,
   "metadata": {},
   "outputs": [],
   "source": [
    "# Removing Square Brackets and Extra Spaces\n",
    "text = re.sub(r'\\[[0-9]*\\]', ' ', text)\n",
    "text = re.sub(r'\\s+', ' ', text)"
   ]
  },
  {
   "cell_type": "code",
   "execution_count": 57,
   "metadata": {},
   "outputs": [],
   "source": [
    "# Removing special characters and digits for calculation of weighted frequencies\n",
    "formatted_text = re.sub('[^a-zA-Z]', ' ', text )\n",
    "formatted_text = re.sub(r'\\s+', ' ', formatted_text)"
   ]
  },
  {
   "cell_type": "code",
   "execution_count": 58,
   "metadata": {},
   "outputs": [],
   "source": [
    "sentence_list = sent_tokenize(text)"
   ]
  },
  {
   "cell_type": "code",
   "execution_count": 59,
   "metadata": {},
   "outputs": [],
   "source": [
    "# Calculate weighted frequency for all words\n",
    "stopwords = stopwords.words('english')\n",
    "\n",
    "word_freqs = {}\n",
    "for word in word_tokenize(formatted_text):\n",
    "    if word not in stopwords:\n",
    "        if word not in word_freqs.keys():\n",
    "            word_freqs[word] = 1\n",
    "        else:\n",
    "            word_freqs[word] += 1\n",
    "\n",
    "max_freq = max(word_freqs.values())\n",
    "\n",
    "# Make all frequencies <= 1\n",
    "for word in word_freqs.keys():\n",
    "    word_freqs[word] = (word_freqs[word]/max_freq)"
   ]
  },
  {
   "cell_type": "code",
   "execution_count": 60,
   "metadata": {},
   "outputs": [],
   "source": [
    "# Calculating sentence frequency scores as a sum of the word frequencies\n",
    "MAX_SENTENCE_LEN = 30\n",
    "sentence_scores = {}\n",
    "\n",
    "for sentence in sentence_list:\n",
    "    for word in word_tokenize(sentence.lower()):\n",
    "        if word in word_freqs.keys():\n",
    "            if len(sentence.split(' ')) < MAX_SENTENCE_LEN:\n",
    "                if sentence not in sentence_scores.keys():\n",
    "                    sentence_scores[sentence] = word_freqs[word]\n",
    "                else:\n",
    "                    sentence_scores[sentence] += word_freqs[word]"
   ]
  },
  {
   "cell_type": "code",
   "execution_count": 61,
   "metadata": {},
   "outputs": [],
   "source": [
    "# Combine the sentences with the largest frequency scores\n",
    "NUM_SENTENCES = 8\n",
    "summary_sentences = heapq.nlargest(NUM_SENTENCES, sentence_scores, key=sentence_scores.get)\n",
    "summary = ' '.join(summary_sentences)"
   ]
  },
  {
   "cell_type": "code",
   "execution_count": 62,
   "metadata": {},
   "outputs": [
    {
     "name": "stdout",
     "output_type": "stream",
     "text": [
      "In 1870 the population of the city was 212,000, all of whom lived with the area circumscribed by the ancient city, and in 1920, the population was 660,000. Rome is often referred to as the City of Seven Hills due to its geographic location and also the \"Eternal City.\" People from all over the Christian world visit Vatican City, within the city of Rome, the seat of the papacy. Throughout the history of Rome, the urban limits of the city were considered to be the area within the city's walls. The Metropolitan City replaced the old provincia di Roma, which included the city's metropolitan area and extends further north until Civitavecchia. The population of the city had fallen from 800,000 to 450–500,000 by the time the city was sacked in 455 by Genseric, king of the Vandals. The Metropolitan City of Rome, with a population of 4,355,725 residents, is the most populous metropolitan city in Italy. According to the City Brands Index, Rome is considered the world's second most historically, educationally and culturally interesting and beautiful city.\n"
     ]
    }
   ],
   "source": [
    "print(summary)"
   ]
  }
 ],
 "metadata": {
  "interpreter": {
   "hash": "b55fb9c3b2ae460387b9f24a585a06d07a1c685c2da458447f8c89d29042cf89"
  },
  "kernelspec": {
   "display_name": "Python 3.8.10 64-bit ('venv': venv)",
   "name": "python3"
  },
  "language_info": {
   "codemirror_mode": {
    "name": "ipython",
    "version": 3
   },
   "file_extension": ".py",
   "mimetype": "text/x-python",
   "name": "python",
   "nbconvert_exporter": "python",
   "pygments_lexer": "ipython3",
   "version": "3.8.10"
  },
  "orig_nbformat": 4
 },
 "nbformat": 4,
 "nbformat_minor": 2
}
